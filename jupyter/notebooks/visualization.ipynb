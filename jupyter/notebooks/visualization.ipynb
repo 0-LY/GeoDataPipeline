{
 "cells": [
  {
   "cell_type": "markdown",
   "id": "f8206b86",
   "metadata": {},
   "source": [
    "# Data Processing and Visualization with PostgreSQL and GeoPandas\n",
    "\n",
    "This Jupyter Notebook demonstrates how to:\n",
    "1. Connect to a PostgreSQL database.\n",
    "2. Query data related to event counts, location counts, and user information.\n",
    "3. Visualize the data with line plots, bar plots, and geospatial choropleth maps using `matplotlib`, `seaborn`, and `geopandas`.\n",
    "\n",
    "---\n",
    "\n",
    "### Step 1: Importing Required Libraries\n",
    "\n",
    "Let's start by importing all the necessary libraries for database connection, data processing, and visualization."
   ]
  },
  {
   "cell_type": "code",
   "execution_count": 1,
   "id": "1e08efa3",
   "metadata": {},
   "outputs": [],
   "source": [
    "# %%\n",
    "# Importing necessary libraries\n",
    "import os\n",
    "import pandas as pd\n",
    "from sqlalchemy import create_engine\n",
    "import matplotlib.pyplot as plt\n",
    "import seaborn as sns\n",
    "import geopandas as gpd"
   ]
  },
  {
   "cell_type": "markdown",
   "id": "61be4b20",
   "metadata": {},
   "source": [
    "### Step 2: Setting Up Database Connection\n",
    "\n",
    "The environment variables for database connection are retrieved, and we will create an engine to interact with the PostgreSQL database."
   ]
  },
  {
   "cell_type": "code",
   "execution_count": 2,
   "id": "28edcb1b",
   "metadata": {},
   "outputs": [],
   "source": [
    "# %%\n",
    "# Retrieving environment variables for database connection\n",
    "POSTGRES_USER = os.getenv(\"POSTGRES_USER\")\n",
    "POSTGRES_PASSWORD = os.getenv(\"POSTGRES_PASSWORD\")\n",
    "POSTGRES_HOST = os.getenv(\"POSTGRES_HOST\")\n",
    "POSTGRES_PORT = os.getenv(\"POSTGRES_PORT\")\n",
    "POSTGRES_DB = os.getenv(\"POSTGRES_DB\")\n",
    "\n",
    "# Constructing the PostgreSQL connection URL using the environment variables\n",
    "database_url = f\"postgresql://{POSTGRES_USER}:{POSTGRES_PASSWORD}@{POSTGRES_HOST}:{POSTGRES_PORT}/{POSTGRES_DB}\"\n",
    "# Creating an engine to connect to the PostgreSQL database using SQLAlchemy\n",
    "engine = create_engine(database_url)"
   ]
  },
  {
   "cell_type": "markdown",
   "id": "0bd2d5aa",
   "metadata": {},
   "source": [
    "### Step 3: Querying and Visualizing Event Data\n",
    "\n",
    "We will query the database for the number of events per hour and visualize it with a line plot."
   ]
  },
  {
   "cell_type": "code",
   "execution_count": 3,
   "id": "ed192205",
   "metadata": {},
   "outputs": [],
   "source": [
    "# %%\n",
    "# Querying the database for the number of events per hour\n",
    "query_events_per_hour = \"SELECT * FROM events_per_hour;\"\n",
    "df_events_per_hour = pd.read_sql_query(query_events_per_hour, engine)\n",
    "\n",
    "# %%\n",
    "# Visualizing the event counts per hour using a line plot\n",
    "plt.figure(figsize=(12, 6))\n",
    "sns.set_style(\"whitegrid\")  # Setting the style for the plot\n",
    "\n",
    "sns.lineplot(data=df_events_per_hour, x='hour', y='event_count', marker='o')\n",
    "\n",
    "# Labels and formatting for the plot\n",
    "plt.xlabel(\"Hour\")\n",
    "plt.ylabel(\"Event Count\")\n",
    "plt.xticks(rotation=45)  # Rotating x-axis labels for better readability\n",
    "\n",
    "plt.tight_layout()  # Ensures no content is cut off in the figure\n",
    "plt.show()  # Display the plot"
   ]
  },
  {
   "cell_type": "markdown",
   "id": "4366af24",
   "metadata": {},
   "source": [
    "### Step 4: Querying and Visualizing Location Data\n",
    "\n",
    "Now, we will query the database to get the number of users per unique location visited and visualize it using a bar plot."
   ]
  },
  {
   "cell_type": "code",
   "execution_count": 4,
   "id": "d52f4063",
   "metadata": {},
   "outputs": [],
   "source": [
    "# %%\n",
    "# Querying the database for the number of users per unique location visited\n",
    "query_locations_per_user = \"SELECT location_count, COUNT(user_id) as user_count FROM locations_per_user GROUP BY location_count ORDER BY location_count;\"\n",
    "df_locations_per_user = pd.read_sql_query(query_locations_per_user, engine)\n",
    "\n",
    "# %%\n",
    "# Visualizing the number of users by the unique number of locations they visited using a bar plot\n",
    "plt.figure(figsize=(12, 6))\n",
    "sns.barplot(data=df_locations_per_user, x='location_count', y='user_count', palette='viridis')\n",
    "\n",
    "# Adding labels and title to the plot\n",
    "plt.title(\"Number of Users by Unique Locations Visited\")\n",
    "plt.xlabel(\"Number of Unique Locations Visited\")\n",
    "plt.ylabel(\"Number of Users\")\n",
    "plt.xticks(rotation=0)  # Keeping x-axis labels horizontal\n",
    "\n",
    "plt.tight_layout()  # Ensures the plot is displayed correctly\n",
    "plt.show()"
   ]
  },
  {
   "cell_type": "markdown",
   "id": "d7f971bf",
   "metadata": {},
   "source": [
    "### Step 5: Handling Geospatial Data\n",
    "\n",
    "Let's use `GeoPandas` to work with spatial data, including retrieving boundaries and merging them with the user data."
   ]
  },
  {
   "cell_type": "code",
   "execution_count": 5,
   "id": "f90986ef",
   "metadata": {},
   "outputs": [],
   "source": [
    "# %%\n",
    "# Defining the target date for querying unique users by administrative unit\n",
    "target_date = '2024-10-01'\n",
    "\n",
    "# Query to retrieve the number of unique users per administrative unit (LAU) for the specified date\n",
    "query_unique_users_per_admin_unit = f\"\"\"\n",
    "SELECT lau_id, lau_name, unique_user_count\n",
    "FROM unique_users_per_admin_unit\n",
    "WHERE date = '{target_date}';\n",
    "\"\"\"\n",
    "# Running the query to retrieve the data into a DataFrame\n",
    "df_population = pd.read_sql_query(query_unique_users_per_admin_unit, engine)\n",
    "\n",
    "# Query to retrieve geographical boundaries of administrative units (LAUs)\n",
    "query_boundaries = \"SELECT lau_id, lau_name, geometry FROM local_admin_units;\"\n",
    "# Reading the spatial data (geometries) using GeoPandas\n",
    "gdf_boundaries = gpd.read_postgis(query_boundaries, engine, geom_col='geometry')\n",
    "\n",
    "# Merging the population data with the boundaries data using 'lau_id' as the key\n",
    "gdf_boundaries = gdf_boundaries.merge(df_population, on=\"lau_id\", how=\"left\")\n",
    "\n",
    "# Filling any missing unique user counts with 0 (if there are administrative units with no data)\n",
    "gdf_boundaries['unique_user_count'] = gdf_boundaries['unique_user_count'].fillna(0)"
   ]
  },
  {
   "cell_type": "markdown",
   "id": "8bbc9db1",
   "metadata": {},
   "source": [
    "### Step 6: Visualizing Geospatial Data\n",
    "\n",
    "Now we will create a choropleth map to visualize unique user counts by administrative unit. The areas will be colored based on the number of unique users."
   ]
  },
  {
   "cell_type": "code",
   "execution_count": 6,
   "id": "5c303529",
   "metadata": {},
   "outputs": [],
   "source": [
    "# %%\n",
    "# Plotting a choropleth map to visualize unique user counts by administrative unit\n",
    "fig, ax = plt.subplots(1, 1, figsize=(12, 10))\n",
    "gdf_boundaries.plot(column='unique_user_count', cmap='viridis', linewidth=0.8, ax=ax, edgecolor='0.8', legend=True)\n",
    "\n",
    "# Removing the axes for a cleaner map visualization\n",
    "ax.set_axis_off()\n",
    "\n",
    "# Displaying the choropleth map\n",
    "plt.show()"
   ]
  }
 ],
 "metadata": {
  "language_info": {
   "name": "python"
  }
 },
 "nbformat": 4,
 "nbformat_minor": 5
}
